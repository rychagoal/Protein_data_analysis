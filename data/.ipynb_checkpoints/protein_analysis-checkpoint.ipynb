{
 "cells": [
  {
   "cell_type": "code",
   "execution_count": 1,
   "id": "d31ccac7-d74a-41dc-8222-246fd9d980ed",
   "metadata": {},
   "outputs": [],
   "source": [
    "import pandas as pd\n",
    "import numpy as np"
   ]
  },
  {
   "cell_type": "code",
   "execution_count": 2,
   "id": "b3ea86d3-8413-425e-ac3d-85639396cdf8",
   "metadata": {},
   "outputs": [],
   "source": [
    "data_abund = pd.read_csv(\"9606_abund.txt\", sep=\"\\t\")"
   ]
  },
  {
   "cell_type": "code",
   "execution_count": 3,
   "id": "1d8c55bb-86ba-44a7-ad37-0101fbd23912",
   "metadata": {},
   "outputs": [],
   "source": [
    "data_dom = pd.read_csv(\"9606_gn_dom.txt\", sep=\"\\t\")"
   ]
  },
  {
   "cell_type": "code",
   "execution_count": 4,
   "id": "17cc9cf6-c674-4985-ae00-7d177433f3af",
   "metadata": {},
   "outputs": [],
   "source": [
    "data_abund = data_abund.rename(columns={\"#Taxid\": \"Taxid\"})\n",
    "data_dom = data_dom.rename(columns={\"#Gn\": \"Gn\"})"
   ]
  },
  {
   "cell_type": "code",
   "execution_count": 5,
   "id": "2e924098-939e-44f1-8974-d4f08f522fa6",
   "metadata": {},
   "outputs": [
    {
     "data": {
      "text/html": [
       "<div>\n",
       "<style scoped>\n",
       "    .dataframe tbody tr th:only-of-type {\n",
       "        vertical-align: middle;\n",
       "    }\n",
       "\n",
       "    .dataframe tbody tr th {\n",
       "        vertical-align: top;\n",
       "    }\n",
       "\n",
       "    .dataframe thead th {\n",
       "        text-align: right;\n",
       "    }\n",
       "</style>\n",
       "<table border=\"1\" class=\"dataframe\">\n",
       "  <thead>\n",
       "    <tr style=\"text-align: right;\">\n",
       "      <th></th>\n",
       "      <th>Taxid</th>\n",
       "      <th>Ensembl_protein</th>\n",
       "      <th>Gn</th>\n",
       "      <th>Mean-copy-number</th>\n",
       "    </tr>\n",
       "  </thead>\n",
       "  <tbody>\n",
       "    <tr>\n",
       "      <th>0</th>\n",
       "      <td>9606</td>\n",
       "      <td>ENSP00000263100</td>\n",
       "      <td>A1BG</td>\n",
       "      <td>885.188</td>\n",
       "    </tr>\n",
       "    <tr>\n",
       "      <th>1</th>\n",
       "      <td>9606</td>\n",
       "      <td>ENSP00000282641</td>\n",
       "      <td>A1CF</td>\n",
       "      <td>19.016</td>\n",
       "    </tr>\n",
       "    <tr>\n",
       "      <th>2</th>\n",
       "      <td>9606</td>\n",
       "      <td>ENSP00000282641</td>\n",
       "      <td>A1CF</td>\n",
       "      <td>19.016</td>\n",
       "    </tr>\n",
       "    <tr>\n",
       "      <th>3</th>\n",
       "      <td>9606</td>\n",
       "      <td>ENSP00000282641</td>\n",
       "      <td>A1CF</td>\n",
       "      <td>19.016</td>\n",
       "    </tr>\n",
       "    <tr>\n",
       "      <th>4</th>\n",
       "      <td>9606</td>\n",
       "      <td>ENSP00000323929</td>\n",
       "      <td>A2M</td>\n",
       "      <td>1114.564</td>\n",
       "    </tr>\n",
       "    <tr>\n",
       "      <th>5</th>\n",
       "      <td>9606</td>\n",
       "      <td>ENSP00000323929</td>\n",
       "      <td>A2M</td>\n",
       "      <td>1114.564</td>\n",
       "    </tr>\n",
       "    <tr>\n",
       "      <th>6</th>\n",
       "      <td>9606</td>\n",
       "      <td>ENSP00000323929</td>\n",
       "      <td>A2M</td>\n",
       "      <td>1114.564</td>\n",
       "    </tr>\n",
       "    <tr>\n",
       "      <th>7</th>\n",
       "      <td>9606</td>\n",
       "      <td>ENSP00000323929</td>\n",
       "      <td>A2M</td>\n",
       "      <td>1114.564</td>\n",
       "    </tr>\n",
       "    <tr>\n",
       "      <th>8</th>\n",
       "      <td>9606</td>\n",
       "      <td>ENSP00000299698</td>\n",
       "      <td>A2ML1</td>\n",
       "      <td>90.762</td>\n",
       "    </tr>\n",
       "    <tr>\n",
       "      <th>9</th>\n",
       "      <td>9606</td>\n",
       "      <td>ENSP00000299698</td>\n",
       "      <td>A2ML1</td>\n",
       "      <td>90.762</td>\n",
       "    </tr>\n",
       "  </tbody>\n",
       "</table>\n",
       "</div>"
      ],
      "text/plain": [
       "  Taxid  Ensembl_protein     Gn Mean-copy-number\n",
       "0  9606  ENSP00000263100   A1BG          885.188\n",
       "1  9606  ENSP00000282641   A1CF           19.016\n",
       "2  9606  ENSP00000282641   A1CF           19.016\n",
       "3  9606  ENSP00000282641   A1CF           19.016\n",
       "4  9606  ENSP00000323929    A2M         1114.564\n",
       "5  9606  ENSP00000323929    A2M         1114.564\n",
       "6  9606  ENSP00000323929    A2M         1114.564\n",
       "7  9606  ENSP00000323929    A2M         1114.564\n",
       "8  9606  ENSP00000299698  A2ML1           90.762\n",
       "9  9606  ENSP00000299698  A2ML1           90.762"
      ]
     },
     "execution_count": 5,
     "metadata": {},
     "output_type": "execute_result"
    }
   ],
   "source": [
    "data_abund.head(10)"
   ]
  },
  {
   "cell_type": "code",
   "execution_count": 6,
   "id": "e19a00f3-39eb-4589-bf41-058eb528e39d",
   "metadata": {},
   "outputs": [
    {
     "data": {
      "text/html": [
       "<div>\n",
       "<style scoped>\n",
       "    .dataframe tbody tr th:only-of-type {\n",
       "        vertical-align: middle;\n",
       "    }\n",
       "\n",
       "    .dataframe tbody tr th {\n",
       "        vertical-align: top;\n",
       "    }\n",
       "\n",
       "    .dataframe thead th {\n",
       "        text-align: right;\n",
       "    }\n",
       "</style>\n",
       "<table border=\"1\" class=\"dataframe\">\n",
       "  <thead>\n",
       "    <tr style=\"text-align: right;\">\n",
       "      <th></th>\n",
       "      <th>Gn</th>\n",
       "      <th>Domain</th>\n",
       "      <th>Start</th>\n",
       "      <th>End</th>\n",
       "      <th>Eval</th>\n",
       "    </tr>\n",
       "  </thead>\n",
       "  <tbody>\n",
       "    <tr>\n",
       "      <th>0</th>\n",
       "      <td>A1BG</td>\n",
       "      <td>Ig</td>\n",
       "      <td>127</td>\n",
       "      <td>201</td>\n",
       "      <td>3.800000e-01</td>\n",
       "    </tr>\n",
       "    <tr>\n",
       "      <th>1</th>\n",
       "      <td>A1BG</td>\n",
       "      <td>Ig</td>\n",
       "      <td>217</td>\n",
       "      <td>300</td>\n",
       "      <td>3.000000e-15</td>\n",
       "    </tr>\n",
       "    <tr>\n",
       "      <th>2</th>\n",
       "      <td>A1BG</td>\n",
       "      <td>Ig</td>\n",
       "      <td>31</td>\n",
       "      <td>110</td>\n",
       "      <td>8.200000e-06</td>\n",
       "    </tr>\n",
       "    <tr>\n",
       "      <th>3</th>\n",
       "      <td>A1BG</td>\n",
       "      <td>Ig</td>\n",
       "      <td>403</td>\n",
       "      <td>490</td>\n",
       "      <td>1.900000e-03</td>\n",
       "    </tr>\n",
       "    <tr>\n",
       "      <th>4</th>\n",
       "      <td>A1BG</td>\n",
       "      <td>SpaA</td>\n",
       "      <td>327</td>\n",
       "      <td>352</td>\n",
       "      <td>4.400000e+01</td>\n",
       "    </tr>\n",
       "    <tr>\n",
       "      <th>5</th>\n",
       "      <td>A1CF</td>\n",
       "      <td>DND1_DSRM</td>\n",
       "      <td>447</td>\n",
       "      <td>523</td>\n",
       "      <td>2.300000e-24</td>\n",
       "    </tr>\n",
       "    <tr>\n",
       "      <th>6</th>\n",
       "      <td>A1CF</td>\n",
       "      <td>RRM</td>\n",
       "      <td>138</td>\n",
       "      <td>199</td>\n",
       "      <td>4.400000e-07</td>\n",
       "    </tr>\n",
       "    <tr>\n",
       "      <th>7</th>\n",
       "      <td>A1CF</td>\n",
       "      <td>RRM</td>\n",
       "      <td>233</td>\n",
       "      <td>296</td>\n",
       "      <td>6.700000e-11</td>\n",
       "    </tr>\n",
       "    <tr>\n",
       "      <th>8</th>\n",
       "      <td>A1CF</td>\n",
       "      <td>RRM</td>\n",
       "      <td>58</td>\n",
       "      <td>124</td>\n",
       "      <td>2.400000e-16</td>\n",
       "    </tr>\n",
       "    <tr>\n",
       "      <th>9</th>\n",
       "      <td>A2M</td>\n",
       "      <td>A2M</td>\n",
       "      <td>738</td>\n",
       "      <td>828</td>\n",
       "      <td>4.500000e-31</td>\n",
       "    </tr>\n",
       "  </tbody>\n",
       "</table>\n",
       "</div>"
      ],
      "text/plain": [
       "     Gn     Domain  Start  End          Eval\n",
       "0  A1BG         Ig    127  201  3.800000e-01\n",
       "1  A1BG         Ig    217  300  3.000000e-15\n",
       "2  A1BG         Ig     31  110  8.200000e-06\n",
       "3  A1BG         Ig    403  490  1.900000e-03\n",
       "4  A1BG       SpaA    327  352  4.400000e+01\n",
       "5  A1CF  DND1_DSRM    447  523  2.300000e-24\n",
       "6  A1CF        RRM    138  199  4.400000e-07\n",
       "7  A1CF        RRM    233  296  6.700000e-11\n",
       "8  A1CF        RRM     58  124  2.400000e-16\n",
       "9   A2M        A2M    738  828  4.500000e-31"
      ]
     },
     "execution_count": 6,
     "metadata": {},
     "output_type": "execute_result"
    }
   ],
   "source": [
    "data_dom.head(10)"
   ]
  },
  {
   "cell_type": "markdown",
   "id": "e6372ce0-cdd0-4468-8964-bc0f81fd7cc5",
   "metadata": {},
   "source": [
    "## A1"
   ]
  },
  {
   "cell_type": "markdown",
   "id": "37c6763b-8007-480b-8d6b-8ff3d8bb0985",
   "metadata": {},
   "source": [
    "### How many protein/copy-number pairs are in the file? (Single numerical value)"
   ]
  },
  {
   "cell_type": "code",
   "execution_count": 7,
   "id": "cd2fe833-8fc2-4337-be3f-e6d11ca83246",
   "metadata": {},
   "outputs": [
    {
     "data": {
      "text/plain": [
       "53642"
      ]
     },
     "execution_count": 7,
     "metadata": {},
     "output_type": "execute_result"
    }
   ],
   "source": [
    "data_abund.shape[0]"
   ]
  },
  {
   "cell_type": "markdown",
   "id": "8b09b653-5d05-4279-b30f-979f2d03f7fb",
   "metadata": {},
   "source": [
    "### How many unique copy number values are there in the file?"
   ]
  },
  {
   "cell_type": "code",
   "execution_count": 8,
   "id": "181cca1a-cd3c-449c-8947-19b6691c2b95",
   "metadata": {},
   "outputs": [
    {
     "data": {
      "text/plain": [
       "19567"
      ]
     },
     "execution_count": 8,
     "metadata": {},
     "output_type": "execute_result"
    }
   ],
   "source": [
    "data_abund[[\"Mean-copy-number\", \"Gn\"]].drop_duplicates().shape[0]"
   ]
  },
  {
   "cell_type": "code",
   "execution_count": 76,
   "id": "716f8c1a-1388-4bd1-b110-55140cd3792a",
   "metadata": {},
   "outputs": [],
   "source": [
    "find_isoforms = data_abund.drop_duplicates().groupby(by=[\"Gn\", \"Mean-copy-number\"])['Ensembl_protein'].nunique().reset_index(name=\"uniq_values\")"
   ]
  },
  {
   "cell_type": "code",
   "execution_count": 77,
   "id": "d355bf8c-f2f7-4b71-bba4-b161c53c372f",
   "metadata": {},
   "outputs": [
    {
     "data": {
      "text/plain": [
       "['CSH1', 'DAZ2', 'NPIPA3', 'NPIPB4', 'ZNF84']"
      ]
     },
     "execution_count": 77,
     "metadata": {},
     "output_type": "execute_result"
    }
   ],
   "source": [
    "# what proteins have more than one Ensembl number\n",
    "find_isoforms[find_isoforms['uniq_values'] > 1]['Gn'].to_list()"
   ]
  },
  {
   "cell_type": "code",
   "execution_count": 78,
   "id": "58bdf8ff-eabb-41d9-b470-bc71835d5d82",
   "metadata": {},
   "outputs": [],
   "source": [
    "# it is likely these proteins have isoforms"
   ]
  },
  {
   "cell_type": "markdown",
   "id": "218f3282-508a-401b-a997-5dac13c26849",
   "metadata": {},
   "source": [
    "### How many pairs of protein and copy number values are in the file? (Single numerical value)"
   ]
  },
  {
   "cell_type": "code",
   "execution_count": 9,
   "id": "416c9976-9a5f-409c-8e65-3540438e46f9",
   "metadata": {},
   "outputs": [
    {
     "data": {
      "text/plain": [
       "19572"
      ]
     },
     "execution_count": 9,
     "metadata": {},
     "output_type": "execute_result"
    }
   ],
   "source": [
    "data_abund.drop_duplicates().shape[0]"
   ]
  },
  {
   "cell_type": "markdown",
   "id": "ab3a2d2a-7d1f-4488-a79a-10b241cccc42",
   "metadata": {},
   "source": [
    "## A2. Compute the mean and standard deviation of copy numbers for all proteins (considering unique pairs only) first as a single number for all proteins (two numerical values) and then for each protein separately (Table in tsv/csv)."
   ]
  },
  {
   "cell_type": "code",
   "execution_count": 10,
   "id": "ff1ecbd2-5722-49bb-8d9f-25a69b35d842",
   "metadata": {},
   "outputs": [
    {
     "data": {
      "text/plain": [
       "(19572, 4)"
      ]
     },
     "execution_count": 10,
     "metadata": {},
     "output_type": "execute_result"
    }
   ],
   "source": [
    "#drop duplicates\n",
    "unique_copy_num = data_abund.drop_duplicates().copy()\n",
    "unique_copy_num.shape"
   ]
  },
  {
   "cell_type": "code",
   "execution_count": 11,
   "id": "c89c01e4-09af-46b9-ac9a-ad07dd8aedb0",
   "metadata": {},
   "outputs": [
    {
     "data": {
      "text/plain": [
       "Taxid               0\n",
       "Ensembl_protein     0\n",
       "Gn                  0\n",
       "Mean-copy-number    0\n",
       "dtype: int64"
      ]
     },
     "execution_count": 11,
     "metadata": {},
     "output_type": "execute_result"
    }
   ],
   "source": [
    "unique_copy_num.isna().sum()"
   ]
  },
  {
   "cell_type": "code",
   "execution_count": 12,
   "id": "97d365fe-30e2-45b5-bf4f-8ce34e764bd7",
   "metadata": {},
   "outputs": [
    {
     "data": {
      "text/plain": [
       "count     19572\n",
       "unique    16241\n",
       "top       0.000\n",
       "freq         39\n",
       "Name: Mean-copy-number, dtype: object"
      ]
     },
     "execution_count": 12,
     "metadata": {},
     "output_type": "execute_result"
    }
   ],
   "source": [
    "unique_copy_num[\"Mean-copy-number\"].describe()"
   ]
  },
  {
   "cell_type": "code",
   "execution_count": 14,
   "id": "aa6f6dda-284e-460e-9a4e-0088b06a8341",
   "metadata": {},
   "outputs": [],
   "source": [
    "#convert format to numerical\n",
    "unique_copy_num[\"Mean-copy-number\"] = pd.to_numeric(unique_copy_num[\"Mean-copy-number\"], errors=\"coerce\")\n",
    "mean_value = unique_copy_num[\"Mean-copy-number\"].mean()"
   ]
  },
  {
   "cell_type": "code",
   "execution_count": 15,
   "id": "c1363ebc-4a78-457d-b502-02dfedf0604e",
   "metadata": {},
   "outputs": [],
   "source": [
    "std_value = unique_copy_num[\"Mean-copy-number\"].std()"
   ]
  },
  {
   "cell_type": "code",
   "execution_count": 16,
   "id": "6646293f-ced9-42ee-a21d-c787b55a71ca",
   "metadata": {},
   "outputs": [
    {
     "name": "stdout",
     "output_type": "stream",
     "text": [
      "Mean copy number: 79.826\n",
      "Standard Deviation copy number: 362.170\n"
     ]
    }
   ],
   "source": [
    "print(f\"Mean copy number: {mean_value:.3f}\")\n",
    "print(f\"Standard Deviation copy number: {std_value:.3f}\")"
   ]
  },
  {
   "cell_type": "code",
   "execution_count": 17,
   "id": "318c8d8b-76c8-4203-97a4-7ef0d63acdea",
   "metadata": {},
   "outputs": [],
   "source": [
    "mean_std_for_each_protein = unique_copy_num.groupby(\"Gn\")[\"Mean-copy-number\"].agg([\"mean\", \"std\"]).reset_index()"
   ]
  },
  {
   "cell_type": "code",
   "execution_count": 18,
   "id": "f33eff6e-954a-4538-9001-1ea1e695d520",
   "metadata": {},
   "outputs": [],
   "source": [
    "mean_std_for_each_protein = mean_std_for_each_protein.fillna(0)"
   ]
  },
  {
   "cell_type": "code",
   "execution_count": 19,
   "id": "42af6263-5077-4f61-80ca-31ff83591f2f",
   "metadata": {},
   "outputs": [
    {
     "data": {
      "text/plain": [
       "Gn      18992\n",
       "mean    18992\n",
       "std     18992\n",
       "dtype: int64"
      ]
     },
     "execution_count": 19,
     "metadata": {},
     "output_type": "execute_result"
    }
   ],
   "source": [
    "mean_std_for_each_protein.count()"
   ]
  },
  {
   "cell_type": "code",
   "execution_count": 20,
   "id": "19a00e58-6a0b-4332-8153-4c24722f9c34",
   "metadata": {},
   "outputs": [
    {
     "data": {
      "text/plain": [
       "Gn      0\n",
       "mean    0\n",
       "std     0\n",
       "dtype: int64"
      ]
     },
     "execution_count": 20,
     "metadata": {},
     "output_type": "execute_result"
    }
   ],
   "source": [
    "mean_std_for_each_protein.isna().sum()"
   ]
  },
  {
   "cell_type": "code",
   "execution_count": 21,
   "id": "4878d6dd-674a-421e-8aa3-09c624fa023c",
   "metadata": {},
   "outputs": [
    {
     "data": {
      "text/html": [
       "<div>\n",
       "<style scoped>\n",
       "    .dataframe tbody tr th:only-of-type {\n",
       "        vertical-align: middle;\n",
       "    }\n",
       "\n",
       "    .dataframe tbody tr th {\n",
       "        vertical-align: top;\n",
       "    }\n",
       "\n",
       "    .dataframe thead th {\n",
       "        text-align: right;\n",
       "    }\n",
       "</style>\n",
       "<table border=\"1\" class=\"dataframe\">\n",
       "  <thead>\n",
       "    <tr style=\"text-align: right;\">\n",
       "      <th></th>\n",
       "      <th>Gn</th>\n",
       "      <th>mean</th>\n",
       "      <th>std</th>\n",
       "    </tr>\n",
       "  </thead>\n",
       "  <tbody>\n",
       "    <tr>\n",
       "      <th>531</th>\n",
       "      <td>ALB</td>\n",
       "      <td>22306.386</td>\n",
       "      <td>0.0</td>\n",
       "    </tr>\n",
       "    <tr>\n",
       "      <th>6853</th>\n",
       "      <td>HBA2</td>\n",
       "      <td>14178.655</td>\n",
       "      <td>0.0</td>\n",
       "    </tr>\n",
       "    <tr>\n",
       "      <th>6854</th>\n",
       "      <td>HBB</td>\n",
       "      <td>13538.518</td>\n",
       "      <td>0.0</td>\n",
       "    </tr>\n",
       "    <tr>\n",
       "      <th>8428</th>\n",
       "      <td>LALBA</td>\n",
       "      <td>12454.998</td>\n",
       "      <td>0.0</td>\n",
       "    </tr>\n",
       "    <tr>\n",
       "      <th>16847</th>\n",
       "      <td>TMSB4X</td>\n",
       "      <td>11622.015</td>\n",
       "      <td>0.0</td>\n",
       "    </tr>\n",
       "    <tr>\n",
       "      <th>7434</th>\n",
       "      <td>IGLC1</td>\n",
       "      <td>7235.736</td>\n",
       "      <td>0.0</td>\n",
       "    </tr>\n",
       "    <tr>\n",
       "      <th>7435</th>\n",
       "      <td>IGLJ1</td>\n",
       "      <td>7235.736</td>\n",
       "      <td>0.0</td>\n",
       "    </tr>\n",
       "    <tr>\n",
       "      <th>7437</th>\n",
       "      <td>IGLL5</td>\n",
       "      <td>7235.736</td>\n",
       "      <td>0.0</td>\n",
       "    </tr>\n",
       "    <tr>\n",
       "      <th>3682</th>\n",
       "      <td>CSN1S1</td>\n",
       "      <td>7160.290</td>\n",
       "      <td>0.0</td>\n",
       "    </tr>\n",
       "    <tr>\n",
       "      <th>6037</th>\n",
       "      <td>GAPDH</td>\n",
       "      <td>6999.011</td>\n",
       "      <td>0.0</td>\n",
       "    </tr>\n",
       "  </tbody>\n",
       "</table>\n",
       "</div>"
      ],
      "text/plain": [
       "           Gn       mean  std\n",
       "531       ALB  22306.386  0.0\n",
       "6853     HBA2  14178.655  0.0\n",
       "6854      HBB  13538.518  0.0\n",
       "8428    LALBA  12454.998  0.0\n",
       "16847  TMSB4X  11622.015  0.0\n",
       "7434    IGLC1   7235.736  0.0\n",
       "7435    IGLJ1   7235.736  0.0\n",
       "7437    IGLL5   7235.736  0.0\n",
       "3682   CSN1S1   7160.290  0.0\n",
       "6037    GAPDH   6999.011  0.0"
      ]
     },
     "execution_count": 21,
     "metadata": {},
     "output_type": "execute_result"
    }
   ],
   "source": [
    "mean_std_for_each_protein.sort_values(\"mean\", ascending=False).head(10)"
   ]
  },
  {
   "cell_type": "code",
   "execution_count": 22,
   "id": "05c7b1bc-60e7-4d97-9649-cd48d7ed7e8d",
   "metadata": {},
   "outputs": [],
   "source": [
    "mean_std_for_each_protein.sort_values(\"mean\", ascending=False).to_csv(\"A2task_mean_std_proteins_abund.csv\", index=False)"
   ]
  },
  {
   "cell_type": "markdown",
   "id": "43c8c5e3-5841-4dd8-8e90-b27bbf7faf1e",
   "metadata": {},
   "source": [
    "### A3. Calculate the percentile rank (in terms of average copy number ranks) for each protein. (i.e. for protein X, where is it in the ranks from top (0%) to bottom (100%) in terms of abundance) (Table in csv/tsv). Please also give the top ten proteins (highest abundance) as a list with the associated numerical values."
   ]
  },
  {
   "cell_type": "code",
   "execution_count": 25,
   "id": "b3e4571b-3578-4cef-873c-939b877dbcec",
   "metadata": {},
   "outputs": [],
   "source": [
    "mean_std_for_each_protein[\"percentile_rank\"] = mean_std_for_each_protein[\"mean\"].rank(pct=True, ascending=True) * 100"
   ]
  },
  {
   "cell_type": "code",
   "execution_count": 26,
   "id": "f13acb84-b84e-4d22-96cb-8059c26a6694",
   "metadata": {},
   "outputs": [],
   "source": [
    "mean_std_for_each_protein.sort_values(\"percentile_rank\", ascending=False).to_csv(\"A3task_mean_std_rank.csv\")"
   ]
  },
  {
   "cell_type": "code",
   "execution_count": 27,
   "id": "10bad8f7-7204-45ed-b62c-299f2f829031",
   "metadata": {},
   "outputs": [],
   "source": [
    "top_10 = mean_std_for_each_protein.sort_values(\"percentile_rank\", ascending=False).head(10)"
   ]
  },
  {
   "cell_type": "code",
   "execution_count": 28,
   "id": "2feccf91-8bf7-4d56-8c4b-14e7f501024b",
   "metadata": {},
   "outputs": [
    {
     "data": {
      "text/html": [
       "<div>\n",
       "<style scoped>\n",
       "    .dataframe tbody tr th:only-of-type {\n",
       "        vertical-align: middle;\n",
       "    }\n",
       "\n",
       "    .dataframe tbody tr th {\n",
       "        vertical-align: top;\n",
       "    }\n",
       "\n",
       "    .dataframe thead th {\n",
       "        text-align: right;\n",
       "    }\n",
       "</style>\n",
       "<table border=\"1\" class=\"dataframe\">\n",
       "  <thead>\n",
       "    <tr style=\"text-align: right;\">\n",
       "      <th></th>\n",
       "      <th>Gn</th>\n",
       "      <th>mean</th>\n",
       "      <th>std</th>\n",
       "      <th>percentile_rank</th>\n",
       "    </tr>\n",
       "  </thead>\n",
       "  <tbody>\n",
       "    <tr>\n",
       "      <th>531</th>\n",
       "      <td>ALB</td>\n",
       "      <td>22306.386</td>\n",
       "      <td>0.0</td>\n",
       "      <td>100.000000</td>\n",
       "    </tr>\n",
       "    <tr>\n",
       "      <th>6853</th>\n",
       "      <td>HBA2</td>\n",
       "      <td>14178.655</td>\n",
       "      <td>0.0</td>\n",
       "      <td>99.994735</td>\n",
       "    </tr>\n",
       "    <tr>\n",
       "      <th>6854</th>\n",
       "      <td>HBB</td>\n",
       "      <td>13538.518</td>\n",
       "      <td>0.0</td>\n",
       "      <td>99.989469</td>\n",
       "    </tr>\n",
       "    <tr>\n",
       "      <th>8428</th>\n",
       "      <td>LALBA</td>\n",
       "      <td>12454.998</td>\n",
       "      <td>0.0</td>\n",
       "      <td>99.984204</td>\n",
       "    </tr>\n",
       "    <tr>\n",
       "      <th>16847</th>\n",
       "      <td>TMSB4X</td>\n",
       "      <td>11622.015</td>\n",
       "      <td>0.0</td>\n",
       "      <td>99.978939</td>\n",
       "    </tr>\n",
       "    <tr>\n",
       "      <th>7434</th>\n",
       "      <td>IGLC1</td>\n",
       "      <td>7235.736</td>\n",
       "      <td>0.0</td>\n",
       "      <td>99.968408</td>\n",
       "    </tr>\n",
       "    <tr>\n",
       "      <th>7435</th>\n",
       "      <td>IGLJ1</td>\n",
       "      <td>7235.736</td>\n",
       "      <td>0.0</td>\n",
       "      <td>99.968408</td>\n",
       "    </tr>\n",
       "    <tr>\n",
       "      <th>7437</th>\n",
       "      <td>IGLL5</td>\n",
       "      <td>7235.736</td>\n",
       "      <td>0.0</td>\n",
       "      <td>99.968408</td>\n",
       "    </tr>\n",
       "    <tr>\n",
       "      <th>3682</th>\n",
       "      <td>CSN1S1</td>\n",
       "      <td>7160.290</td>\n",
       "      <td>0.0</td>\n",
       "      <td>99.957877</td>\n",
       "    </tr>\n",
       "    <tr>\n",
       "      <th>6037</th>\n",
       "      <td>GAPDH</td>\n",
       "      <td>6999.011</td>\n",
       "      <td>0.0</td>\n",
       "      <td>99.952612</td>\n",
       "    </tr>\n",
       "  </tbody>\n",
       "</table>\n",
       "</div>"
      ],
      "text/plain": [
       "           Gn       mean  std  percentile_rank\n",
       "531       ALB  22306.386  0.0       100.000000\n",
       "6853     HBA2  14178.655  0.0        99.994735\n",
       "6854      HBB  13538.518  0.0        99.989469\n",
       "8428    LALBA  12454.998  0.0        99.984204\n",
       "16847  TMSB4X  11622.015  0.0        99.978939\n",
       "7434    IGLC1   7235.736  0.0        99.968408\n",
       "7435    IGLJ1   7235.736  0.0        99.968408\n",
       "7437    IGLL5   7235.736  0.0        99.968408\n",
       "3682   CSN1S1   7160.290  0.0        99.957877\n",
       "6037    GAPDH   6999.011  0.0        99.952612"
      ]
     },
     "execution_count": 28,
     "metadata": {},
     "output_type": "execute_result"
    }
   ],
   "source": [
    "top_10"
   ]
  },
  {
   "cell_type": "code",
   "execution_count": 26,
   "id": "3b89763e-acdf-4018-a8f1-e5bf07453c95",
   "metadata": {},
   "outputs": [
    {
     "data": {
      "text/plain": [
       "[['ALB', 22306.386],\n",
       " ['HBA2', 14178.655],\n",
       " ['HBB', 13538.518],\n",
       " ['LALBA', 12454.998],\n",
       " ['TMSB4X', 11622.015],\n",
       " ['IGLC1', 7235.736],\n",
       " ['IGLJ1', 7235.736],\n",
       " ['IGLL5', 7235.736],\n",
       " ['CSN1S1', 7160.29],\n",
       " ['GAPDH', 6999.011]]"
      ]
     },
     "execution_count": 26,
     "metadata": {},
     "output_type": "execute_result"
    }
   ],
   "source": [
    "top_10[[\"Gn\", \"mean\"]].values.tolist()"
   ]
  },
  {
   "cell_type": "markdown",
   "id": "129b450f-63d9-45ef-a876-eb4f383b2df3",
   "metadata": {},
   "source": [
    "# Analyse protein domains"
   ]
  },
  {
   "cell_type": "markdown",
   "id": "edad0ada-8dba-4e89-a5ac-3c4a0554aca9",
   "metadata": {},
   "source": [
    "### B1. What is the domain with the highest average abundance (i.e. across all copies of the domain in all proteins) and what is the value of the average abundance, and how many times was the domain seen? (single string value and two numerical values)"
   ]
  },
  {
   "cell_type": "code",
   "execution_count": 29,
   "id": "bde8fafe-0a0a-411d-a5a5-e6d961deafbd",
   "metadata": {},
   "outputs": [
    {
     "data": {
      "text/html": [
       "<div>\n",
       "<style scoped>\n",
       "    .dataframe tbody tr th:only-of-type {\n",
       "        vertical-align: middle;\n",
       "    }\n",
       "\n",
       "    .dataframe tbody tr th {\n",
       "        vertical-align: top;\n",
       "    }\n",
       "\n",
       "    .dataframe thead th {\n",
       "        text-align: right;\n",
       "    }\n",
       "</style>\n",
       "<table border=\"1\" class=\"dataframe\">\n",
       "  <thead>\n",
       "    <tr style=\"text-align: right;\">\n",
       "      <th></th>\n",
       "      <th>Gn</th>\n",
       "      <th>Domain</th>\n",
       "      <th>Start</th>\n",
       "      <th>End</th>\n",
       "      <th>Eval</th>\n",
       "    </tr>\n",
       "  </thead>\n",
       "  <tbody>\n",
       "    <tr>\n",
       "      <th>0</th>\n",
       "      <td>A1BG</td>\n",
       "      <td>Ig</td>\n",
       "      <td>127</td>\n",
       "      <td>201</td>\n",
       "      <td>3.800000e-01</td>\n",
       "    </tr>\n",
       "    <tr>\n",
       "      <th>1</th>\n",
       "      <td>A1BG</td>\n",
       "      <td>Ig</td>\n",
       "      <td>217</td>\n",
       "      <td>300</td>\n",
       "      <td>3.000000e-15</td>\n",
       "    </tr>\n",
       "    <tr>\n",
       "      <th>2</th>\n",
       "      <td>A1BG</td>\n",
       "      <td>Ig</td>\n",
       "      <td>31</td>\n",
       "      <td>110</td>\n",
       "      <td>8.200000e-06</td>\n",
       "    </tr>\n",
       "    <tr>\n",
       "      <th>3</th>\n",
       "      <td>A1BG</td>\n",
       "      <td>Ig</td>\n",
       "      <td>403</td>\n",
       "      <td>490</td>\n",
       "      <td>1.900000e-03</td>\n",
       "    </tr>\n",
       "    <tr>\n",
       "      <th>4</th>\n",
       "      <td>A1BG</td>\n",
       "      <td>SpaA</td>\n",
       "      <td>327</td>\n",
       "      <td>352</td>\n",
       "      <td>4.400000e+01</td>\n",
       "    </tr>\n",
       "  </tbody>\n",
       "</table>\n",
       "</div>"
      ],
      "text/plain": [
       "     Gn Domain  Start  End          Eval\n",
       "0  A1BG     Ig    127  201  3.800000e-01\n",
       "1  A1BG     Ig    217  300  3.000000e-15\n",
       "2  A1BG     Ig     31  110  8.200000e-06\n",
       "3  A1BG     Ig    403  490  1.900000e-03\n",
       "4  A1BG   SpaA    327  352  4.400000e+01"
      ]
     },
     "execution_count": 29,
     "metadata": {},
     "output_type": "execute_result"
    }
   ],
   "source": [
    "data_dom.head(5)"
   ]
  },
  {
   "cell_type": "code",
   "execution_count": 30,
   "id": "c6abecd1-c97a-48a4-91e0-a7a22f916f92",
   "metadata": {},
   "outputs": [
    {
     "data": {
      "text/plain": [
       "Gn        0\n",
       "Domain    0\n",
       "Start     0\n",
       "End       0\n",
       "Eval      0\n",
       "dtype: int64"
      ]
     },
     "execution_count": 30,
     "metadata": {},
     "output_type": "execute_result"
    }
   ],
   "source": [
    "data_dom.isna().sum()"
   ]
  },
  {
   "cell_type": "code",
   "execution_count": 31,
   "id": "0981d6b5-0e69-48eb-a18c-eb1846efb16d",
   "metadata": {},
   "outputs": [
    {
     "data": {
      "text/plain": [
       "(65884, 5)"
      ]
     },
     "execution_count": 31,
     "metadata": {},
     "output_type": "execute_result"
    }
   ],
   "source": [
    "data_dom.shape"
   ]
  },
  {
   "cell_type": "code",
   "execution_count": 32,
   "id": "cc4ccd51-b1f0-4a09-befd-c6e1547b57fa",
   "metadata": {},
   "outputs": [
    {
     "data": {
      "text/plain": [
       "(65877, 5)"
      ]
     },
     "execution_count": 32,
     "metadata": {},
     "output_type": "execute_result"
    }
   ],
   "source": [
    "data_dom.drop_duplicates().shape"
   ]
  },
  {
   "cell_type": "code",
   "execution_count": 33,
   "id": "750db871-a187-46b8-a1c1-7c99081dcd93",
   "metadata": {},
   "outputs": [],
   "source": [
    "data_dom = data_dom.drop_duplicates()"
   ]
  },
  {
   "cell_type": "code",
   "execution_count": 34,
   "id": "5a5e9b05-c4c3-453c-8509-47607ee96e1a",
   "metadata": {},
   "outputs": [],
   "source": [
    "proteins_domains = data_dom.merge(mean_std_for_each_protein[[\"Gn\", \"mean\", \"std\"]], on=\"Gn\", how=\"left\")"
   ]
  },
  {
   "cell_type": "code",
   "execution_count": 35,
   "id": "dade6b17-2ccc-45b6-94e2-afe895713168",
   "metadata": {},
   "outputs": [],
   "source": [
    "# domain average abundance (i.e. across all copies of the domain in all proteins)\n",
    "count_domain = proteins_domains.groupby([\"Gn\",\"Domain\",\"mean\",\"std\"])[\"Domain\"].size().reset_index(name=\"count_domain\")"
   ]
  },
  {
   "cell_type": "code",
   "execution_count": 36,
   "id": "0b2c610e-c8f7-4e9f-9208-cc0e0a388f01",
   "metadata": {},
   "outputs": [
    {
     "data": {
      "text/html": [
       "<div>\n",
       "<style scoped>\n",
       "    .dataframe tbody tr th:only-of-type {\n",
       "        vertical-align: middle;\n",
       "    }\n",
       "\n",
       "    .dataframe tbody tr th {\n",
       "        vertical-align: top;\n",
       "    }\n",
       "\n",
       "    .dataframe thead th {\n",
       "        text-align: right;\n",
       "    }\n",
       "</style>\n",
       "<table border=\"1\" class=\"dataframe\">\n",
       "  <thead>\n",
       "    <tr style=\"text-align: right;\">\n",
       "      <th></th>\n",
       "      <th>Gn</th>\n",
       "      <th>Domain</th>\n",
       "      <th>mean</th>\n",
       "      <th>std</th>\n",
       "      <th>count_domain</th>\n",
       "    </tr>\n",
       "  </thead>\n",
       "  <tbody>\n",
       "    <tr>\n",
       "      <th>0</th>\n",
       "      <td>A1BG</td>\n",
       "      <td>Ig</td>\n",
       "      <td>885.188</td>\n",
       "      <td>0.0</td>\n",
       "      <td>4</td>\n",
       "    </tr>\n",
       "    <tr>\n",
       "      <th>1</th>\n",
       "      <td>A1BG</td>\n",
       "      <td>SpaA</td>\n",
       "      <td>885.188</td>\n",
       "      <td>0.0</td>\n",
       "      <td>1</td>\n",
       "    </tr>\n",
       "    <tr>\n",
       "      <th>2</th>\n",
       "      <td>A1CF</td>\n",
       "      <td>DND1_DSRM</td>\n",
       "      <td>19.016</td>\n",
       "      <td>0.0</td>\n",
       "      <td>1</td>\n",
       "    </tr>\n",
       "    <tr>\n",
       "      <th>3</th>\n",
       "      <td>A1CF</td>\n",
       "      <td>RRM</td>\n",
       "      <td>19.016</td>\n",
       "      <td>0.0</td>\n",
       "      <td>3</td>\n",
       "    </tr>\n",
       "    <tr>\n",
       "      <th>4</th>\n",
       "      <td>A2M</td>\n",
       "      <td>A2M</td>\n",
       "      <td>1114.564</td>\n",
       "      <td>0.0</td>\n",
       "      <td>1</td>\n",
       "    </tr>\n",
       "    <tr>\n",
       "      <th>...</th>\n",
       "      <td>...</td>\n",
       "      <td>...</td>\n",
       "      <td>...</td>\n",
       "      <td>...</td>\n",
       "      <td>...</td>\n",
       "    </tr>\n",
       "    <tr>\n",
       "      <th>32509</th>\n",
       "      <td>ZZEF1</td>\n",
       "      <td>CUB</td>\n",
       "      <td>17.443</td>\n",
       "      <td>0.0</td>\n",
       "      <td>1</td>\n",
       "    </tr>\n",
       "    <tr>\n",
       "      <th>32510</th>\n",
       "      <td>ZZEF1</td>\n",
       "      <td>EF-hand</td>\n",
       "      <td>17.443</td>\n",
       "      <td>0.0</td>\n",
       "      <td>2</td>\n",
       "    </tr>\n",
       "    <tr>\n",
       "      <th>32511</th>\n",
       "      <td>ZZEF1</td>\n",
       "      <td>ZZ</td>\n",
       "      <td>17.443</td>\n",
       "      <td>0.0</td>\n",
       "      <td>2</td>\n",
       "    </tr>\n",
       "    <tr>\n",
       "      <th>32512</th>\n",
       "      <td>ZZZ3</td>\n",
       "      <td>Myb_DNA-binding</td>\n",
       "      <td>7.258</td>\n",
       "      <td>0.0</td>\n",
       "      <td>1</td>\n",
       "    </tr>\n",
       "    <tr>\n",
       "      <th>32513</th>\n",
       "      <td>ZZZ3</td>\n",
       "      <td>ZZ</td>\n",
       "      <td>7.258</td>\n",
       "      <td>0.0</td>\n",
       "      <td>1</td>\n",
       "    </tr>\n",
       "  </tbody>\n",
       "</table>\n",
       "<p>32514 rows × 5 columns</p>\n",
       "</div>"
      ],
      "text/plain": [
       "          Gn           Domain      mean  std  count_domain\n",
       "0       A1BG               Ig   885.188  0.0             4\n",
       "1       A1BG             SpaA   885.188  0.0             1\n",
       "2       A1CF        DND1_DSRM    19.016  0.0             1\n",
       "3       A1CF              RRM    19.016  0.0             3\n",
       "4        A2M              A2M  1114.564  0.0             1\n",
       "...      ...              ...       ...  ...           ...\n",
       "32509  ZZEF1              CUB    17.443  0.0             1\n",
       "32510  ZZEF1          EF-hand    17.443  0.0             2\n",
       "32511  ZZEF1               ZZ    17.443  0.0             2\n",
       "32512   ZZZ3  Myb_DNA-binding     7.258  0.0             1\n",
       "32513   ZZZ3               ZZ     7.258  0.0             1\n",
       "\n",
       "[32514 rows x 5 columns]"
      ]
     },
     "execution_count": 36,
     "metadata": {},
     "output_type": "execute_result"
    }
   ],
   "source": [
    "count_domain"
   ]
  },
  {
   "cell_type": "code",
   "execution_count": 37,
   "id": "53faaef1-ad45-449e-b870-8897988a7aa7",
   "metadata": {},
   "outputs": [],
   "source": [
    "most_prevalent_domain = count_domain.groupby(\"Domain\").agg({\n",
    "    \"mean\": \"mean\",\n",
    "    \"count_domain\": \"sum\"\n",
    "}).reset_index().sort_values(\"mean\", ascending=False).head(1)"
   ]
  },
  {
   "cell_type": "code",
   "execution_count": 38,
   "id": "aa9117d0-915a-492d-88d7-2cbc05e52541",
   "metadata": {},
   "outputs": [
    {
     "name": "stdout",
     "output_type": "stream",
     "text": [
      "domain with the highest average abundance(i.e. across all copies of the domain in all proteins): Serum_albumin, 5947.1, 11\n"
     ]
    }
   ],
   "source": [
    "domain_name = most_prevalent_domain[\"Domain\"].iloc[0]\n",
    "avg_abundance = most_prevalent_domain[\"mean\"].iloc[0]\n",
    "times_seen = most_prevalent_domain[\"count_domain\"].iloc[0]\n",
    "\n",
    "print(f\"domain with the highest average abundance\"\n",
    "      f\"(i.e. across all copies of the domain in all proteins): {domain_name}, {round(avg_abundance, 2)}, {times_seen}\")"
   ]
  },
  {
   "cell_type": "code",
   "execution_count": 39,
   "id": "42b2645b-5e95-4863-8f59-267ca0688f31",
   "metadata": {},
   "outputs": [
    {
     "data": {
      "text/html": [
       "<div>\n",
       "<style scoped>\n",
       "    .dataframe tbody tr th:only-of-type {\n",
       "        vertical-align: middle;\n",
       "    }\n",
       "\n",
       "    .dataframe tbody tr th {\n",
       "        vertical-align: top;\n",
       "    }\n",
       "\n",
       "    .dataframe thead th {\n",
       "        text-align: right;\n",
       "    }\n",
       "</style>\n",
       "<table border=\"1\" class=\"dataframe\">\n",
       "  <thead>\n",
       "    <tr style=\"text-align: right;\">\n",
       "      <th></th>\n",
       "      <th>Domain</th>\n",
       "      <th>mean</th>\n",
       "      <th>count_domain</th>\n",
       "    </tr>\n",
       "  </thead>\n",
       "  <tbody>\n",
       "    <tr>\n",
       "      <th>5284</th>\n",
       "      <td>Serum_albumin</td>\n",
       "      <td>5947.10225</td>\n",
       "      <td>11</td>\n",
       "    </tr>\n",
       "    <tr>\n",
       "      <th>942</th>\n",
       "      <td>Casein_kappa</td>\n",
       "      <td>4953.42000</td>\n",
       "      <td>1</td>\n",
       "    </tr>\n",
       "    <tr>\n",
       "      <th>373</th>\n",
       "      <td>ApoC-I</td>\n",
       "      <td>4531.03100</td>\n",
       "      <td>1</td>\n",
       "    </tr>\n",
       "    <tr>\n",
       "      <th>3018</th>\n",
       "      <td>Keratin_2_tail</td>\n",
       "      <td>3745.12100</td>\n",
       "      <td>1</td>\n",
       "    </tr>\n",
       "    <tr>\n",
       "      <th>371</th>\n",
       "      <td>ApoA-II</td>\n",
       "      <td>3707.40500</td>\n",
       "      <td>3</td>\n",
       "    </tr>\n",
       "    <tr>\n",
       "      <th>2592</th>\n",
       "      <td>Gp_dh_N</td>\n",
       "      <td>3523.15750</td>\n",
       "      <td>2</td>\n",
       "    </tr>\n",
       "    <tr>\n",
       "      <th>2591</th>\n",
       "      <td>Gp_dh_C</td>\n",
       "      <td>3523.15750</td>\n",
       "      <td>2</td>\n",
       "    </tr>\n",
       "    <tr>\n",
       "      <th>5823</th>\n",
       "      <td>Transthyretin</td>\n",
       "      <td>3512.36700</td>\n",
       "      <td>1</td>\n",
       "    </tr>\n",
       "    <tr>\n",
       "      <th>941</th>\n",
       "      <td>Casein</td>\n",
       "      <td>2989.44600</td>\n",
       "      <td>1</td>\n",
       "    </tr>\n",
       "    <tr>\n",
       "      <th>5765</th>\n",
       "      <td>Thymosin</td>\n",
       "      <td>2785.38740</td>\n",
       "      <td>5</td>\n",
       "    </tr>\n",
       "  </tbody>\n",
       "</table>\n",
       "</div>"
      ],
      "text/plain": [
       "              Domain        mean  count_domain\n",
       "5284   Serum_albumin  5947.10225            11\n",
       "942     Casein_kappa  4953.42000             1\n",
       "373           ApoC-I  4531.03100             1\n",
       "3018  Keratin_2_tail  3745.12100             1\n",
       "371          ApoA-II  3707.40500             3\n",
       "2592         Gp_dh_N  3523.15750             2\n",
       "2591         Gp_dh_C  3523.15750             2\n",
       "5823   Transthyretin  3512.36700             1\n",
       "941           Casein  2989.44600             1\n",
       "5765        Thymosin  2785.38740             5"
      ]
     },
     "execution_count": 39,
     "metadata": {},
     "output_type": "execute_result"
    }
   ],
   "source": [
    "# top 10 abundant domains\n",
    "count_domain.groupby(\"Domain\").agg({\n",
    "    \"mean\": \"mean\",\n",
    "    \"count_domain\": \"sum\"\n",
    "}).reset_index().sort_values(\"mean\", ascending=False).head(10)"
   ]
  },
  {
   "cell_type": "code",
   "execution_count": null,
   "id": "ae0824e5-2e2f-41c4-b776-661bbb75b4f1",
   "metadata": {},
   "outputs": [],
   "source": []
  },
  {
   "cell_type": "markdown",
   "id": "bc195705-339c-4f11-86ea-f9224e1b5ab5",
   "metadata": {},
   "source": [
    "### B2. Compute the mean and standard deviation of domain average abundance for each protein domain (i.e. by summing abundance values of all versions of these domains) by combining these two files also, compute the percentile rank values as above (One table)"
   ]
  },
  {
   "cell_type": "markdown",
   "id": "fe1c02ad-1d56-4e8b-863c-be703bbe04b7",
   "metadata": {},
   "source": [
    "### To calculate Std we need to use propagation of error formula:"
   ]
  },
  {
   "cell_type": "markdown",
   "id": "b59af2d3-9359-47f2-ad06-8efb4f0ed9bd",
   "metadata": {},
   "source": [
    "$\n",
    "\\sigma = \\sqrt{\\sigma_1^2 + \\sigma_2^2 + \\dots + \\sigma_n^2}\n",
    "$"
   ]
  },
  {
   "cell_type": "code",
   "execution_count": 40,
   "id": "f84798fe-2e5a-4bbc-a4fd-573bf3b01326",
   "metadata": {},
   "outputs": [],
   "source": [
    "std_count = (\n",
    "    count_domain.assign(std_squared=lambda d: d[\"std\"]**2)\n",
    "    .groupby(\"Domain\")[\"std_squared\"]\n",
    "    .sum()\n",
    "    .apply(np.sqrt)\n",
    "    .reset_index()\n",
    "    .rename(columns={\"std_squared\": \"domain_abundance_std\"})\n",
    ")"
   ]
  },
  {
   "cell_type": "code",
   "execution_count": 41,
   "id": "4b05d7b1-3cc1-460a-a774-caa5d2b17599",
   "metadata": {},
   "outputs": [],
   "source": [
    "domain_summary = count_domain.groupby(\"Domain\").agg({\n",
    "    \"mean\": \"mean\",\n",
    "    \"count_domain\": \"sum\"\n",
    "}).reset_index().sort_values(\"mean\", ascending=False)"
   ]
  },
  {
   "cell_type": "code",
   "execution_count": 42,
   "id": "303d4b7c-cc1b-4d05-8dcc-d93febfd8f12",
   "metadata": {},
   "outputs": [],
   "source": [
    "avg_abund_each_domain = domain_summary.merge(std_count, on=\"Domain\")"
   ]
  },
  {
   "cell_type": "markdown",
   "id": "eb1bd51e-076f-45d7-ac64-fa071f937e88",
   "metadata": {},
   "source": [
    "### mean and standard deviation of domain average abundance for each protein domain:"
   ]
  },
  {
   "cell_type": "code",
   "execution_count": 43,
   "id": "03f867f4-5fec-4a5e-958b-4a66b3504c9c",
   "metadata": {},
   "outputs": [
    {
     "data": {
      "text/html": [
       "<div>\n",
       "<style scoped>\n",
       "    .dataframe tbody tr th:only-of-type {\n",
       "        vertical-align: middle;\n",
       "    }\n",
       "\n",
       "    .dataframe tbody tr th {\n",
       "        vertical-align: top;\n",
       "    }\n",
       "\n",
       "    .dataframe thead th {\n",
       "        text-align: right;\n",
       "    }\n",
       "</style>\n",
       "<table border=\"1\" class=\"dataframe\">\n",
       "  <thead>\n",
       "    <tr style=\"text-align: right;\">\n",
       "      <th></th>\n",
       "      <th>Domain</th>\n",
       "      <th>mean</th>\n",
       "      <th>count_domain</th>\n",
       "      <th>domain_abundance_std</th>\n",
       "    </tr>\n",
       "  </thead>\n",
       "  <tbody>\n",
       "    <tr>\n",
       "      <th>0</th>\n",
       "      <td>Serum_albumin</td>\n",
       "      <td>5947.10225</td>\n",
       "      <td>11</td>\n",
       "      <td>0.0</td>\n",
       "    </tr>\n",
       "    <tr>\n",
       "      <th>1</th>\n",
       "      <td>Casein_kappa</td>\n",
       "      <td>4953.42000</td>\n",
       "      <td>1</td>\n",
       "      <td>0.0</td>\n",
       "    </tr>\n",
       "    <tr>\n",
       "      <th>2</th>\n",
       "      <td>ApoC-I</td>\n",
       "      <td>4531.03100</td>\n",
       "      <td>1</td>\n",
       "      <td>0.0</td>\n",
       "    </tr>\n",
       "    <tr>\n",
       "      <th>3</th>\n",
       "      <td>Keratin_2_tail</td>\n",
       "      <td>3745.12100</td>\n",
       "      <td>1</td>\n",
       "      <td>0.0</td>\n",
       "    </tr>\n",
       "    <tr>\n",
       "      <th>4</th>\n",
       "      <td>ApoA-II</td>\n",
       "      <td>3707.40500</td>\n",
       "      <td>3</td>\n",
       "      <td>0.0</td>\n",
       "    </tr>\n",
       "    <tr>\n",
       "      <th>...</th>\n",
       "      <td>...</td>\n",
       "      <td>...</td>\n",
       "      <td>...</td>\n",
       "      <td>...</td>\n",
       "    </tr>\n",
       "    <tr>\n",
       "      <th>6414</th>\n",
       "      <td>DUF4562</td>\n",
       "      <td>0.00100</td>\n",
       "      <td>1</td>\n",
       "      <td>0.0</td>\n",
       "    </tr>\n",
       "    <tr>\n",
       "      <th>6415</th>\n",
       "      <td>DUF5540</td>\n",
       "      <td>0.00000</td>\n",
       "      <td>1</td>\n",
       "      <td>0.0</td>\n",
       "    </tr>\n",
       "    <tr>\n",
       "      <th>6416</th>\n",
       "      <td>DUF4796</td>\n",
       "      <td>0.00000</td>\n",
       "      <td>1</td>\n",
       "      <td>0.0</td>\n",
       "    </tr>\n",
       "    <tr>\n",
       "      <th>6417</th>\n",
       "      <td>DUF4521</td>\n",
       "      <td>0.00000</td>\n",
       "      <td>1</td>\n",
       "      <td>0.0</td>\n",
       "    </tr>\n",
       "    <tr>\n",
       "      <th>6418</th>\n",
       "      <td>DUF1580</td>\n",
       "      <td>0.00000</td>\n",
       "      <td>1</td>\n",
       "      <td>0.0</td>\n",
       "    </tr>\n",
       "  </tbody>\n",
       "</table>\n",
       "<p>6419 rows × 4 columns</p>\n",
       "</div>"
      ],
      "text/plain": [
       "              Domain        mean  count_domain  domain_abundance_std\n",
       "0      Serum_albumin  5947.10225            11                   0.0\n",
       "1       Casein_kappa  4953.42000             1                   0.0\n",
       "2             ApoC-I  4531.03100             1                   0.0\n",
       "3     Keratin_2_tail  3745.12100             1                   0.0\n",
       "4            ApoA-II  3707.40500             3                   0.0\n",
       "...              ...         ...           ...                   ...\n",
       "6414         DUF4562     0.00100             1                   0.0\n",
       "6415         DUF5540     0.00000             1                   0.0\n",
       "6416         DUF4796     0.00000             1                   0.0\n",
       "6417         DUF4521     0.00000             1                   0.0\n",
       "6418         DUF1580     0.00000             1                   0.0\n",
       "\n",
       "[6419 rows x 4 columns]"
      ]
     },
     "execution_count": 43,
     "metadata": {},
     "output_type": "execute_result"
    }
   ],
   "source": [
    "avg_abund_each_domain"
   ]
  },
  {
   "cell_type": "code",
   "execution_count": 50,
   "id": "2c61e17f-fb0f-4fe6-86c7-340d30692a2f",
   "metadata": {},
   "outputs": [],
   "source": [
    "# write to .csv file:\n",
    "# avg_abund_each_domain.to_csv(\"avg_abundance_protein_domains.csv\", index=False)"
   ]
  },
  {
   "cell_type": "markdown",
   "id": "9ee0029d-1d1a-4cc2-afff-6aa650df045b",
   "metadata": {},
   "source": [
    "### compute the percentile rank values as above (One table)"
   ]
  },
  {
   "cell_type": "code",
   "execution_count": 46,
   "id": "6c12de9a-2db0-4c10-bff9-2a37bb8039b3",
   "metadata": {},
   "outputs": [],
   "source": [
    "avg_abund_each_domain[\"percentile_rank\"] = avg_abund_each_domain[\"mean\"].rank(pct=True, ascending=True) * 100"
   ]
  },
  {
   "cell_type": "code",
   "execution_count": 47,
   "id": "419273dc-fcf7-4873-977f-08a5fb9b6547",
   "metadata": {},
   "outputs": [],
   "source": [
    "avg_abund_each_domain_ranks = avg_abund_each_domain.sort_values(\"percentile_rank\", ascending=False)"
   ]
  },
  {
   "cell_type": "code",
   "execution_count": 48,
   "id": "e27e9bdb-a029-4d2b-ae0d-ef0c3d7c55d2",
   "metadata": {},
   "outputs": [
    {
     "data": {
      "text/html": [
       "<div>\n",
       "<style scoped>\n",
       "    .dataframe tbody tr th:only-of-type {\n",
       "        vertical-align: middle;\n",
       "    }\n",
       "\n",
       "    .dataframe tbody tr th {\n",
       "        vertical-align: top;\n",
       "    }\n",
       "\n",
       "    .dataframe thead th {\n",
       "        text-align: right;\n",
       "    }\n",
       "</style>\n",
       "<table border=\"1\" class=\"dataframe\">\n",
       "  <thead>\n",
       "    <tr style=\"text-align: right;\">\n",
       "      <th></th>\n",
       "      <th>Domain</th>\n",
       "      <th>mean</th>\n",
       "      <th>domain_abundance_std</th>\n",
       "      <th>count_domain</th>\n",
       "      <th>percentile_rank</th>\n",
       "    </tr>\n",
       "  </thead>\n",
       "  <tbody>\n",
       "    <tr>\n",
       "      <th>0</th>\n",
       "      <td>Serum_albumin</td>\n",
       "      <td>5947.10225</td>\n",
       "      <td>0.000000</td>\n",
       "      <td>11</td>\n",
       "      <td>100.000000</td>\n",
       "    </tr>\n",
       "    <tr>\n",
       "      <th>1</th>\n",
       "      <td>Casein_kappa</td>\n",
       "      <td>4953.42000</td>\n",
       "      <td>0.000000</td>\n",
       "      <td>1</td>\n",
       "      <td>99.984421</td>\n",
       "    </tr>\n",
       "    <tr>\n",
       "      <th>2</th>\n",
       "      <td>ApoC-I</td>\n",
       "      <td>4531.03100</td>\n",
       "      <td>0.000000</td>\n",
       "      <td>1</td>\n",
       "      <td>99.968842</td>\n",
       "    </tr>\n",
       "    <tr>\n",
       "      <th>3</th>\n",
       "      <td>Keratin_2_tail</td>\n",
       "      <td>3745.12100</td>\n",
       "      <td>0.000000</td>\n",
       "      <td>1</td>\n",
       "      <td>99.953264</td>\n",
       "    </tr>\n",
       "    <tr>\n",
       "      <th>4</th>\n",
       "      <td>ApoA-II</td>\n",
       "      <td>3707.40500</td>\n",
       "      <td>0.000000</td>\n",
       "      <td>3</td>\n",
       "      <td>99.937685</td>\n",
       "    </tr>\n",
       "    <tr>\n",
       "      <th>5</th>\n",
       "      <td>Gp_dh_N</td>\n",
       "      <td>3523.15750</td>\n",
       "      <td>0.000000</td>\n",
       "      <td>2</td>\n",
       "      <td>99.914317</td>\n",
       "    </tr>\n",
       "    <tr>\n",
       "      <th>6</th>\n",
       "      <td>Gp_dh_C</td>\n",
       "      <td>3523.15750</td>\n",
       "      <td>0.000000</td>\n",
       "      <td>2</td>\n",
       "      <td>99.914317</td>\n",
       "    </tr>\n",
       "    <tr>\n",
       "      <th>7</th>\n",
       "      <td>Transthyretin</td>\n",
       "      <td>3512.36700</td>\n",
       "      <td>0.000000</td>\n",
       "      <td>1</td>\n",
       "      <td>99.890949</td>\n",
       "    </tr>\n",
       "    <tr>\n",
       "      <th>8</th>\n",
       "      <td>Casein</td>\n",
       "      <td>2989.44600</td>\n",
       "      <td>0.000000</td>\n",
       "      <td>1</td>\n",
       "      <td>99.875370</td>\n",
       "    </tr>\n",
       "    <tr>\n",
       "      <th>9</th>\n",
       "      <td>Thymosin</td>\n",
       "      <td>2785.38740</td>\n",
       "      <td>25.710403</td>\n",
       "      <td>5</td>\n",
       "      <td>99.859791</td>\n",
       "    </tr>\n",
       "  </tbody>\n",
       "</table>\n",
       "</div>"
      ],
      "text/plain": [
       "           Domain        mean  domain_abundance_std  count_domain  \\\n",
       "0   Serum_albumin  5947.10225              0.000000            11   \n",
       "1    Casein_kappa  4953.42000              0.000000             1   \n",
       "2          ApoC-I  4531.03100              0.000000             1   \n",
       "3  Keratin_2_tail  3745.12100              0.000000             1   \n",
       "4         ApoA-II  3707.40500              0.000000             3   \n",
       "5         Gp_dh_N  3523.15750              0.000000             2   \n",
       "6         Gp_dh_C  3523.15750              0.000000             2   \n",
       "7   Transthyretin  3512.36700              0.000000             1   \n",
       "8          Casein  2989.44600              0.000000             1   \n",
       "9        Thymosin  2785.38740             25.710403             5   \n",
       "\n",
       "   percentile_rank  \n",
       "0       100.000000  \n",
       "1        99.984421  \n",
       "2        99.968842  \n",
       "3        99.953264  \n",
       "4        99.937685  \n",
       "5        99.914317  \n",
       "6        99.914317  \n",
       "7        99.890949  \n",
       "8        99.875370  \n",
       "9        99.859791  "
      ]
     },
     "execution_count": 48,
     "metadata": {},
     "output_type": "execute_result"
    }
   ],
   "source": [
    "avg_abund_each_domain_ranks = avg_abund_each_domain_ranks[[\"Domain\", \"mean\", \"domain_abundance_std\",\n",
    "    \"count_domain\", \"percentile_rank\"\n",
    "                                                          ]]\n",
    "avg_abund_each_domain_ranks.head(10)"
   ]
  },
  {
   "cell_type": "code",
   "execution_count": 49,
   "id": "ed80f792-ac27-4491-83de-d1cdb6480181",
   "metadata": {},
   "outputs": [],
   "source": [
    "# write to .csv file:\n",
    "avg_abund_each_domain_ranks.to_csv(\"B2task_avg_abund_protein_domains_ranks.csv\", index=False)"
   ]
  },
  {
   "cell_type": "code",
   "execution_count": null,
   "id": "24013b2b-20b4-490d-adc2-71dd9472b3d0",
   "metadata": {},
   "outputs": [],
   "source": []
  }
 ],
 "metadata": {
  "kernelspec": {
   "display_name": "Python 3 (ipykernel)",
   "language": "python",
   "name": "python3"
  },
  "language_info": {
   "codemirror_mode": {
    "name": "ipython",
    "version": 3
   },
   "file_extension": ".py",
   "mimetype": "text/x-python",
   "name": "python",
   "nbconvert_exporter": "python",
   "pygments_lexer": "ipython3",
   "version": "3.12.3"
  }
 },
 "nbformat": 4,
 "nbformat_minor": 5
}
